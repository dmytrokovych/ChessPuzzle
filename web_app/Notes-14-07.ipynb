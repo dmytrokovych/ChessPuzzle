{
 "cells": [
  {
   "cell_type": "code",
   "execution_count": 35,
   "metadata": {},
   "outputs": [],
   "source": [
    "from chess_puzzles.chessdotcom_data import get_user_data\n",
    "from chess_puzzles.puzzle_generator import make_puzzles\n",
    "from chess_puzzles.puzzle_render import *"
   ]
  },
  {
   "cell_type": "code",
   "execution_count": 2,
   "metadata": {},
   "outputs": [
    {
     "name": "stdout",
     "output_type": "stream",
     "text": [
      "10 games have been successfully loaded.\n"
     ]
    },
    {
     "data": {
      "text/plain": [
       "'04/11/2022, 21:07:11'"
      ]
     },
     "execution_count": 2,
     "metadata": {},
     "output_type": "execute_result"
    }
   ],
   "source": [
    "get_user_data('dmytroko')[0]['date']"
   ]
  },
  {
   "cell_type": "code",
   "execution_count": 16,
   "metadata": {},
   "outputs": [
    {
     "name": "stdout",
     "output_type": "stream",
     "text": [
      "10 games have been successfully loaded.\n"
     ]
    },
    {
     "data": {
      "text/plain": [
       "'black'"
      ]
     },
     "execution_count": 16,
     "metadata": {},
     "output_type": "execute_result"
    }
   ],
   "source": [
    "username = 'Dmytroko'\n",
    "['black', 'white'][username in get_user_data('dmytroko')[3]['white']]\n"
   ]
  },
  {
   "cell_type": "code",
   "execution_count": 17,
   "metadata": {},
   "outputs": [
    {
     "name": "stdout",
     "output_type": "stream",
     "text": [
      "10 games have been successfully loaded.\n"
     ]
    },
    {
     "data": {
      "text/plain": [
       "[{'white': 'Dmytroko',\n",
       "  'black': 'B_e_n_d_e_r',\n",
       "  'result': '1-0',\n",
       "  'date': '2022-04-11',\n",
       "  'pgn': '[Event \"Live Chess\"]\\n[Site \"Chess.com\"]\\n[Date \"2022.04.11\"]\\n[Round \"-\"]\\n[White \"Dmytroko\"]\\n[Black \"B_e_n_d_e_r\"]\\n[Result \"1-0\"]\\n[CurrentPosition \"rnbqkb1r/ppp1pppp/5n2/3p2B1/3P4/5N2/PPP1PPPP/RN1QKB1R b KQkq -\"]\\n[Timezone \"UTC\"]\\n[ECO \"D02\"]\\n[ECOUrl \"https://www.chess.com/openings/Queens-Pawn-Opening-Symmetrical-Variation\"]\\n[UTCDate \"2022.04.11\"]\\n[UTCTime \"19:04:46\"]\\n[WhiteElo \"1473\"]\\n[BlackElo \"1396\"]\\n[TimeControl \"600\"]\\n[Termination \"Dmytroko won by resignation\"]\\n[StartTime \"19:04:46\"]\\n[EndDate \"2022.04.11\"]\\n[EndTime \"19:07:11\"]\\n[Link \"https://www.chess.com/game/live/43442975557\"]\\n\\n1. d4 {[%clk 0:10:00]} 1... Nf6 {[%clk 0:10:00]} 2. Nf3 {[%clk 0:09:55.9]} 2... d5 {[%clk 0:09:53.3]} 3. Bg5 {[%clk 0:09:53.2]} 1-0\\n'},\n",
       " {'white': 'B_e_n_d_e_r',\n",
       "  'black': 'Dmytroko',\n",
       "  'result': '1-0',\n",
       "  'date': '2022-04-11',\n",
       "  'pgn': '[Event \"Live Chess\"]\\n[Site \"Chess.com\"]\\n[Date \"2022.04.11\"]\\n[Round \"-\"]\\n[White \"B_e_n_d_e_r\"]\\n[Black \"Dmytroko\"]\\n[Result \"1-0\"]\\n[CurrentPosition \"2k4r/N4ppp/2BQ4/5b2/3pn3/8/PP3PPP/2KR3R b - -\"]\\n[Timezone \"UTC\"]\\n[ECO \"B13\"]\\n[ECOUrl \"https://www.chess.com/openings/Caro-Kann-Defense-Panov-Attack-4...Nf6-5.Nc3\"]\\n[UTCDate \"2022.04.11\"]\\n[UTCTime \"19:09:04\"]\\n[WhiteElo \"1406\"]\\n[BlackElo \"1457\"]\\n[TimeControl \"600\"]\\n[Termination \"B_e_n_d_e_r won by checkmate\"]\\n[StartTime \"19:09:04\"]\\n[EndDate \"2022.04.11\"]\\n[EndTime \"19:21:52\"]\\n[Link \"https://www.chess.com/game/live/43443054053\"]\\n\\n1. e4 {[%clk 0:10:00]} 1... c6 {[%clk 0:10:00]} 2. d4 {[%clk 0:09:58.7]} 2... d5 {[%clk 0:09:59.6]} 3. exd5 {[%clk 0:09:58.2]} 3... cxd5 {[%clk 0:09:59.1]} 4. c4 {[%clk 0:09:57.8]} 4... Nf6 {[%clk 0:09:58.6]} 5. Nc3 {[%clk 0:09:54.5]} 5... Bf5 {[%clk 0:09:53]} 6. Bg5 {[%clk 0:09:53]} 6... e6 {[%clk 0:09:40.7]} 7. Qf3 {[%clk 0:09:47.8]} 7... Nc6 {[%clk 0:09:28.9]} 8. cxd5 {[%clk 0:09:35.3]} 8... Nxd4 {[%clk 0:09:07.2]} 9. Bb5+ {[%clk 0:08:48.5]} 9... Ke7 {[%clk 0:08:49.2]} 10. d6+ {[%clk 0:06:54.4]} 10... Qxd6 {[%clk 0:08:45.7]} 11. Qxb7+ {[%clk 0:06:46.5]} 11... Kd8 {[%clk 0:08:24.5]} 12. Qxa8+ {[%clk 0:06:27.4]} 12... Kc7 {[%clk 0:08:21.8]} 13. Qxa7+ {[%clk 0:06:11.5]} 13... Kc8 {[%clk 0:08:16.2]} 14. O-O-O {[%clk 0:05:25.4]} 14... e5 {[%clk 0:06:31.7]} 15. Nf3 {[%clk 0:05:12]} 15... Qb4 {[%clk 0:05:37.7]} 16. Qa8+ {[%clk 0:04:47.8]} 16... Kc7 {[%clk 0:05:25.6]} 17. Nxd4 {[%clk 0:04:28.7]} 17... exd4 {[%clk 0:05:23.7]} 18. Qc6+ {[%clk 0:04:19.9]} 18... Kb8 {[%clk 0:05:10]} 19. Bf4+ {[%clk 0:03:55.6]} 19... Bd6 {[%clk 0:04:32.8]} 20. Bxd6+ {[%clk 0:03:52.5]} 20... Qxd6 {[%clk 0:04:30.9]} 21. Qxd6+ {[%clk 0:03:51.1]} 21... Kb7 {[%clk 0:04:26.8]} 22. Bc6+ {[%clk 0:03:42.7]} 22... Kc8 {[%clk 0:04:19.8]} 23. Nb5 {[%clk 0:03:36.4]} 23... Ne4 {[%clk 0:03:51.6]} 24. Na7# {[%clk 0:03:33]} 1-0\\n'},\n",
       " {'white': 'Dmytroko',\n",
       "  'black': 'B_e_n_d_e_r',\n",
       "  'result': '1-0',\n",
       "  'date': '2022-04-11',\n",
       "  'pgn': '[Event \"Live Chess\"]\\n[Site \"Chess.com\"]\\n[Date \"2022.04.11\"]\\n[Round \"-\"]\\n[White \"Dmytroko\"]\\n[Black \"B_e_n_d_e_r\"]\\n[Result \"1-0\"]\\n[CurrentPosition \"3k4/5ppp/4bn2/1Np5/8/1P6/1PP2PPP/2BR2K1 b - -\"]\\n[Timezone \"UTC\"]\\n[ECO \"C70\"]\\n[ECOUrl \"https://www.chess.com/openings/Ruy-Lopez-Opening-Morphy-Defense-Caro-Norwegian-Variation\"]\\n[UTCDate \"2022.04.11\"]\\n[UTCTime \"19:22:03\"]\\n[WhiteElo \"1468\"]\\n[BlackElo \"1399\"]\\n[TimeControl \"600\"]\\n[Termination \"Dmytroko won by resignation\"]\\n[StartTime \"19:22:03\"]\\n[EndDate \"2022.04.11\"]\\n[EndTime \"19:25:21\"]\\n[Link \"https://www.chess.com/game/live/43443704877\"]\\n\\n1. e4 {[%clk 0:10:00]} 1... e5 {[%clk 0:10:00]} 2. Nf3 {[%clk 0:09:58.4]} 2... Nc6 {[%clk 0:09:59.2]} 3. Bb5 {[%clk 0:09:57.1]} 3... a6 {[%clk 0:09:58.6]} 4. Ba4 {[%clk 0:09:55.2]} 4... b5 {[%clk 0:09:56.3]} 5. Bb3 {[%clk 0:09:54.4]} 5... Na5 {[%clk 0:09:54.5]} 6. O-O {[%clk 0:09:43.5]} 6... d6 {[%clk 0:09:47.3]} 7. d4 {[%clk 0:09:37.6]} 7... Nxb3 {[%clk 0:09:39.6]} 8. axb3 {[%clk 0:09:35.7]} 8... exd4 {[%clk 0:09:14.8]} 9. Qxd4 {[%clk 0:09:33.1]} 9... c5 {[%clk 0:09:08.6]} 10. Qd5 {[%clk 0:09:27.9]} 10... Be6 {[%clk 0:08:58.5]} 11. Qc6+ {[%clk 0:09:25.3]} 11... Qd7 {[%clk 0:08:40.3]} 12. Qxa8+ {[%clk 0:09:21.2]} 12... Qd8 {[%clk 0:08:30.7]} 13. Qxd8+ {[%clk 0:09:18.4]} 13... Kxd8 {[%clk 0:08:29.2]} 14. Rxa6 {[%clk 0:09:18]} 14... Kd7 {[%clk 0:08:27.8]} 15. Nc3 {[%clk 0:09:12.8]} 15... Be7 {[%clk 0:08:25.4]} 16. Ra8 {[%clk 0:09:09.9]} 16... Bd8 {[%clk 0:08:20.6]} 17. Nxb5 {[%clk 0:09:05.6]} 17... Nf6 {[%clk 0:08:18.2]} 18. e5 {[%clk 0:09:02.5]} 18... dxe5 {[%clk 0:08:16.9]} 19. Nxe5+ {[%clk 0:09:01.3]} 19... Ke7 {[%clk 0:08:07.9]} 20. Nc6+ {[%clk 0:08:58.1]} 20... Kd7 {[%clk 0:08:04.6]} 21. Nxd8 {[%clk 0:08:55.9]} 21... Rxd8 {[%clk 0:08:03.5]} 22. Rxd8+ {[%clk 0:08:55.3]} 22... Kxd8 {[%clk 0:08:02.8]} 23. Rd1+ {[%clk 0:08:53.9]} 1-0\\n'},\n",
       " {'white': 'B_e_n_d_e_r',\n",
       "  'black': 'Dmytroko',\n",
       "  'result': '0.5-0.5',\n",
       "  'date': '2022-04-11',\n",
       "  'pgn': '[Event \"Live Chess\"]\\n[Site \"Chess.com\"]\\n[Date \"2022.04.11\"]\\n[Round \"-\"]\\n[White \"B_e_n_d_e_r\"]\\n[Black \"Dmytroko\"]\\n[Result \"0-1\"]\\n[CurrentPosition \"8/3B2p1/5p2/kP6/PnR5/7P/4rrPK/8 w - -\"]\\n[Timezone \"UTC\"]\\n[ECO \"B13\"]\\n[ECOUrl \"https://www.chess.com/openings/Caro-Kann-Defense-Panov-Attack-4...Nf6-5.Nc3-dxc4-6.Bxc4\"]\\n[UTCDate \"2022.04.11\"]\\n[UTCTime \"19:25:25\"]\\n[WhiteElo \"1393\"]\\n[BlackElo \"1478\"]\\n[TimeControl \"600\"]\\n[Termination \"Dmytroko won on time\"]\\n[StartTime \"19:25:25\"]\\n[EndDate \"2022.04.11\"]\\n[EndTime \"19:45:19\"]\\n[Link \"https://www.chess.com/game/live/43444190895\"]\\n\\n1. e4 {[%clk 0:10:00]} 1... c6 {[%clk 0:10:00]} 2. d4 {[%clk 0:09:59.3]} 2... d5 {[%clk 0:09:59.5]} 3. exd5 {[%clk 0:09:58.7]} 3... cxd5 {[%clk 0:09:58.9]} 4. c4 {[%clk 0:09:58.3]} 4... Nf6 {[%clk 0:09:57.4]} 5. Nc3 {[%clk 0:09:57.1]} 5... dxc4 {[%clk 0:09:55.9]} 6. Bxc4 {[%clk 0:09:54.6]} 6... Qc7 {[%clk 0:09:53.1]} 7. b3 {[%clk 0:09:25.8]} 7... b5 {[%clk 0:09:48.3]} 8. Nxb5 {[%clk 0:09:15.4]} 8... Qa5+ {[%clk 0:09:40.6]} 9. Bd2 {[%clk 0:09:11.8]} 9... Qb6 {[%clk 0:09:26.4]} 10. Nf3 {[%clk 0:08:55.3]} 10... a6 {[%clk 0:09:25]} 11. Nc3 {[%clk 0:08:44.6]} 11... Bg4 {[%clk 0:09:19]} 12. h3 {[%clk 0:08:41.4]} 12... Bxf3 {[%clk 0:09:17.6]} 13. Qxf3 {[%clk 0:08:30.1]} 13... Nc6 {[%clk 0:08:43]} 14. O-O {[%clk 0:08:14.8]} 14... Rd8 {[%clk 0:08:33.8]} 15. Nd5 {[%clk 0:07:51.4]} 15... Nxd5 {[%clk 0:08:30.6]} 16. Bxd5 {[%clk 0:07:45.9]} 16... Nxd4 {[%clk 0:06:45.6]} 17. Qxf7+ {[%clk 0:07:15]} 17... Kd7 {[%clk 0:06:42.6]} 18. Be3 {[%clk 0:07:02.2]} 18... Ne2+ {[%clk 0:06:26.4]} 19. Kh1 {[%clk 0:06:57.3]} 19... Qf6 {[%clk 0:05:04.9]} 20. Qxf6 {[%clk 0:06:07.3]} 20... exf6 {[%clk 0:05:02]} 21. Bc4 {[%clk 0:06:03.2]} 21... Nc3 {[%clk 0:04:52.9]} 22. Bxa6 {[%clk 0:05:58.6]} 22... Ra8 {[%clk 0:04:35.2]} 23. Bc4 {[%clk 0:04:57.6]} 23... Bb4 {[%clk 0:04:07.5]} 24. a4 {[%clk 0:04:36]} 24... Ne4 {[%clk 0:03:52.6]} 25. Rad1+ {[%clk 0:04:28.5]} 25... Ke7 {[%clk 0:03:34.3]} 26. Rfe1 {[%clk 0:03:59.5]} 26... Bxe1 {[%clk 0:03:28.3]} 27. Rxe1 {[%clk 0:03:54.4]} 27... Nd6 {[%clk 0:03:21.8]} 28. Bc5+ {[%clk 0:03:11]} 28... Kd7 {[%clk 0:03:19]} 29. Be6+ {[%clk 0:03:05.8]} 29... Kc6 {[%clk 0:03:10.7]} 30. Bb4 {[%clk 0:02:37.2]} 30... Rab8 {[%clk 0:02:19.8]} 31. Ba3 {[%clk 0:02:19.8]} 31... Rhd8 {[%clk 0:01:45.1]} 32. b4 {[%clk 0:01:52]} 32... Ne8 {[%clk 0:01:19.2]} 33. b5+ {[%clk 0:01:48.7]} 33... Kb6 {[%clk 0:01:17]} 34. Bf5 {[%clk 0:01:20.1]} 34... Rd4 {[%clk 0:01:08.4]} 35. Bc2 {[%clk 0:00:32]} 35... Nc7 {[%clk 0:01:02.6]} 36. Kg1 {[%clk 0:00:21.7]} 36... Rd2 {[%clk 0:00:59.5]} 37. Rc1 {[%clk 0:00:17.2]} 37... Rbd8 {[%clk 0:00:54.9]} 38. Kh2 {[%clk 0:00:15.2]} 38... Nd5 {[%clk 0:00:51.9]} 39. Bxh7 {[%clk 0:00:12.2]} 39... Rxf2 {[%clk 0:00:48.4]} 40. Be7 {[%clk 0:00:09]} 40... Rd7 {[%clk 0:00:41]} 41. Rc6+ {[%clk 0:00:07.9]} 41... Ka5 {[%clk 0:00:38.8]} 42. Bf5 {[%clk 0:00:06.5]} 42... Rxe7 {[%clk 0:00:35.7]} 43. Rc4 {[%clk 0:00:05.9]} 43... Nb4 {[%clk 0:00:31.5]} 44. Bd7 {[%clk 0:00:04]} 44... Ree2 {[%clk 0:00:28.3]} 0-1\\n'},\n",
       " {'white': 'Dmytroko',\n",
       "  'black': 'B_e_n_d_e_r',\n",
       "  'result': '1-0',\n",
       "  'date': '2022-03-20',\n",
       "  'pgn': '[Event \"Live Chess\"]\\n[Site \"Chess.com\"]\\n[Date \"2022.03.20\"]\\n[Round \"-\"]\\n[White \"Dmytroko\"]\\n[Black \"B_e_n_d_e_r\"]\\n[Result \"1-0\"]\\n[CurrentPosition \"7k/pp3Q1p/6p1/4N3/3p3b/1P5P/q4PP1/2RR2K1 w - -\"]\\n[Timezone \"UTC\"]\\n[ECO \"E60\"]\\n[ECOUrl \"https://www.chess.com/openings/Kings-Indian-Defense-3.Nf3-Bg7\"]\\n[UTCDate \"2022.03.20\"]\\n[UTCTime \"12:26:42\"]\\n[WhiteElo \"1442\"]\\n[BlackElo \"1406\"]\\n[TimeControl \"600\"]\\n[Termination \"Dmytroko won by resignation\"]\\n[StartTime \"12:26:42\"]\\n[EndDate \"2022.03.20\"]\\n[EndTime \"12:44:22\"]\\n[Link \"https://www.chess.com/game/live/41518199153\"]\\n\\n1. d4 {[%clk 0:10:00]} 1... Nf6 {[%clk 0:10:00]} 2. c4 {[%clk 0:09:46.3]} 2... g6 {[%clk 0:09:58.8]} 3. Nf3 {[%clk 0:09:44]} 3... Bg7 {[%clk 0:09:57.6]} 4. Bg5 {[%clk 0:09:35.9]} 4... O-O {[%clk 0:09:55.5]} 5. e3 {[%clk 0:09:32.5]} 5... d5 {[%clk 0:09:47.2]} 6. Nbd2 {[%clk 0:09:15.9]} 6... Nbd7 {[%clk 0:09:35.4]} 7. Be2 {[%clk 0:08:58]} 7... Nb6 {[%clk 0:09:33.5]} 8. O-O {[%clk 0:08:49.2]} 8... Be6 {[%clk 0:09:26.5]} 9. cxd5 {[%clk 0:08:42.5]} 9... Nbxd5 {[%clk 0:09:22.5]} 10. Rc1 {[%clk 0:08:22.8]} 10... Nb6 {[%clk 0:08:52]} 11. b3 {[%clk 0:08:04.7]} 11... Rc8 {[%clk 0:08:45.9]} 12. Qc2 {[%clk 0:07:27.7]} 12... Bf5 {[%clk 0:08:28.7]} 13. e4 {[%clk 0:07:02.7]} 13... Bg4 {[%clk 0:08:04.3]} 14. h3 {[%clk 0:06:22.4]} 14... Bxf3 {[%clk 0:07:56.1]} 15. Nxf3 {[%clk 0:06:18]} 15... Nbd7 {[%clk 0:07:39.8]} 16. Rfd1 {[%clk 0:05:31.3]} 16... c5 {[%clk 0:07:09.8]} 17. e5 {[%clk 0:03:59.4]} 17... cxd4 {[%clk 0:04:22.5]} 18. Qxc8 {[%clk 0:03:57.1]} 18... Qa5 {[%clk 0:02:55.6]} 19. Qc7 {[%clk 0:03:08.8]} 19... Qxa2 {[%clk 0:02:25.8]} 20. exf6 {[%clk 0:02:53.5]} 20... Nxf6 {[%clk 0:02:04.7]} 21. Bxf6 {[%clk 0:02:49.8]} 21... Bxf6 {[%clk 0:01:35]} 22. Bc4 {[%clk 0:02:37]} 22... e5 {[%clk 0:01:14.8]} 23. Nxe5 {[%clk 0:02:08.5]} 23... Bh4 {[%clk 0:00:55.5]} 24. Bxf7+ {[%clk 0:01:51.2]} 24... Rxf7 {[%clk 0:00:50.3]} 25. Qxf7+ {[%clk 0:01:48.7]} 25... Kh8 {[%clk 0:00:47.2]} 1-0\\n'},\n",
       " {'white': 'B_e_n_d_e_r',\n",
       "  'black': 'Dmytroko',\n",
       "  'result': '0.5-0.5',\n",
       "  'date': '2022-03-20',\n",
       "  'pgn': '[Event \"Live Chess\"]\\n[Site \"Chess.com\"]\\n[Date \"2022.03.20\"]\\n[Round \"-\"]\\n[White \"B_e_n_d_e_r\"]\\n[Black \"Dmytroko\"]\\n[Result \"1/2-1/2\"]\\n[CurrentPosition \"8/8/8/8/8/p1k5/4K3/1q6 b - -\"]\\n[Timezone \"UTC\"]\\n[ECO \"B13\"]\\n[ECOUrl \"https://www.chess.com/openings/Caro-Kann-Defense-Panov-Modern-Defense-6.Bg5-dxc4\"]\\n[UTCDate \"2022.03.20\"]\\n[UTCTime \"12:44:25\"]\\n[WhiteElo \"1407\"]\\n[BlackElo \"1441\"]\\n[TimeControl \"600\"]\\n[Termination \"Game drawn by timeout vs insufficient material\"]\\n[StartTime \"12:44:25\"]\\n[EndDate \"2022.03.20\"]\\n[EndTime \"13:02:42\"]\\n[Link \"https://www.chess.com/game/live/41519373215\"]\\n\\n1. e4 {[%clk 0:10:00]} 1... c6 {[%clk 0:10:00]} 2. d4 {[%clk 0:09:59.1]} 2... d5 {[%clk 0:09:59.7]} 3. exd5 {[%clk 0:09:58.4]} 3... cxd5 {[%clk 0:09:59.2]} 4. c4 {[%clk 0:09:57.9]} 4... Nf6 {[%clk 0:09:58]} 5. Nc3 {[%clk 0:09:53.2]} 5... Nc6 {[%clk 0:09:31.4]} 6. Bg5 {[%clk 0:09:43.6]} 6... dxc4 {[%clk 0:09:06.9]} 7. Bxc4 {[%clk 0:09:40.3]} 7... Qxd4 {[%clk 0:09:00.5]} 8. Qxd4 {[%clk 0:09:25.3]} 8... Nxd4 {[%clk 0:08:58.6]} 9. O-O-O {[%clk 0:09:12.3]} 9... Ne6 {[%clk 0:08:32.2]} 10. Bxf6 {[%clk 0:08:41.9]} 10... exf6 {[%clk 0:08:29.4]} 11. Nb5 {[%clk 0:08:37]} 11... Ke7 {[%clk 0:07:25]} 12. Nf3 {[%clk 0:08:16.5]} 12... g6 {[%clk 0:07:06.1]} 13. Rhe1 {[%clk 0:08:11.1]} 13... Bh6+ {[%clk 0:07:03.2]} 14. Kb1 {[%clk 0:08:03.2]} 14... Kf8 {[%clk 0:06:26.6]} 15. Nfd4 {[%clk 0:07:22.1]} 15... Nxd4 {[%clk 0:06:11.8]} 16. Rxd4 {[%clk 0:07:16]} 16... Bf5+ {[%clk 0:06:09.9]} 17. Ka1 {[%clk 0:07:11.2]} 17... Kg7 {[%clk 0:06:05.1]} 18. Nd6 {[%clk 0:06:59]} 18... Rhd8 {[%clk 0:05:22.6]} 19. Nxf5+ {[%clk 0:06:14]} 19... gxf5 {[%clk 0:05:20.2]} 20. Rxd8 {[%clk 0:06:11.2]} 20... Rxd8 {[%clk 0:05:18.9]} 21. a3 {[%clk 0:06:06.3]} 21... Rc8 {[%clk 0:05:10]} 22. Bb3 {[%clk 0:05:53.4]} 22... Rc1+ {[%clk 0:05:05.7]} 23. Rxc1 {[%clk 0:05:48.9]} 23... Bxc1 {[%clk 0:05:04.2]} 24. Kb1 {[%clk 0:05:47.1]} 24... Bf4 {[%clk 0:04:59.8]} 25. h3 {[%clk 0:05:41.7]} 25... Kf8 {[%clk 0:04:47.3]} 26. Bc2 {[%clk 0:05:34.2]} 26... h5 {[%clk 0:04:19.1]} 27. Bxf5 {[%clk 0:05:31.7]} 27... h4 {[%clk 0:04:13.4]} 28. Kc2 {[%clk 0:05:20.9]} 28... Ke7 {[%clk 0:04:04.1]} 29. Kc3 {[%clk 0:05:19.5]} 29... Kd6 {[%clk 0:04:02.9]} 30. Kc4 {[%clk 0:05:15]} 30... Kc6 {[%clk 0:03:51.2]} 31. Be4+ {[%clk 0:05:12.4]} 31... Kc7 {[%clk 0:03:40.3]} 32. Bd5 {[%clk 0:05:11.3]} 32... Bc1 {[%clk 0:03:29.5]} 33. b3 {[%clk 0:05:04.5]} 33... Bxa3 {[%clk 0:03:25.6]} 34. Bxf7 {[%clk 0:04:57.9]} 34... Kd6 {[%clk 0:02:57.5]} 35. Bd5 {[%clk 0:04:52.4]} 35... b6 {[%clk 0:02:52.5]} 36. g4 {[%clk 0:04:48.2]} 36... hxg3 {[%clk 0:02:47.2]} 37. fxg3 {[%clk 0:04:47.2]} 37... b5+ {[%clk 0:02:35]} 38. Kd4 {[%clk 0:04:39.1]} 38... Bb2+ {[%clk 0:02:22]} 39. Ke4 {[%clk 0:04:35.2]} 39... f5+ {[%clk 0:02:12.7]} 40. Kxf5 {[%clk 0:04:32.7]} 40... Kxd5 {[%clk 0:02:11.8]} 41. g4 {[%clk 0:04:26.3]} 41... Bg7 {[%clk 0:01:48.4]} 42. Kg6 {[%clk 0:04:17.9]} 42... Bh8 {[%clk 0:01:44.3]} 43. Kh7 {[%clk 0:04:12.9]} 43... Bf6 {[%clk 0:01:38.5]} 44. Kg6 {[%clk 0:04:04.8]} 44... Be7 {[%clk 0:01:33]} 45. g5 {[%clk 0:04:01.7]} 45... Ke6 {[%clk 0:01:30.8]} 46. h4 {[%clk 0:03:48.1]} 46... Bf8 {[%clk 0:01:23.5]} 47. h5 {[%clk 0:03:40.6]} 47... Be7 {[%clk 0:01:02.5]} 48. h6 {[%clk 0:03:37.3]} 48... Bxg5 {[%clk 0:00:58]} 49. Kxg5 {[%clk 0:03:33.2]} 49... Kf7 {[%clk 0:00:56.8]} 50. Kf5 {[%clk 0:03:12.5]} 50... Kg8 {[%clk 0:00:53.5]} 51. Ke5 {[%clk 0:02:42.6]} 51... a5 {[%clk 0:00:32.8]} 52. Kd4 {[%clk 0:02:41.2]} 52... a4 {[%clk 0:00:30.8]} 53. b4 {[%clk 0:02:28.6]} 53... Kh7 {[%clk 0:00:21]} 54. Kc3 {[%clk 0:02:27.7]} 54... Kxh6 {[%clk 0:00:18.8]} 55. Kb2 {[%clk 0:02:27.2]} 55... Kg6 {[%clk 0:00:17.5]} 56. Ka3 {[%clk 0:02:26.3]} 56... Kf6 {[%clk 0:00:15.7]} 57. Kb2 {[%clk 0:02:26.2]} 57... Ke6 {[%clk 0:00:14.7]} 58. Kc3 {[%clk 0:02:26.1]} 58... Kd5 {[%clk 0:00:13.7]} 59. Kb2 {[%clk 0:02:25.6]} 59... Kc4 {[%clk 0:00:12.8]} 60. Ka3 {[%clk 0:02:24.7]} 60... Kc3 {[%clk 0:00:10.5]} 61. Ka2 {[%clk 0:02:22.4]} 61... Kxb4 {[%clk 0:00:09.7]} 62. Kb2 {[%clk 0:02:22.2]} 62... Kc4 {[%clk 0:00:08.1]} 63. Ka3 {[%clk 0:02:21.2]} 63... b4+ {[%clk 0:00:07.6]} 64. Kb2 {[%clk 0:02:20.8]} 64... a3+ {[%clk 0:00:05.5]} 65. Ka2 {[%clk 0:02:19.2]} 65... b3+ {[%clk 0:00:04.1]} 66. Kb1 {[%clk 0:02:19.1]} 66... Kc3 {[%clk 0:00:03.3]} 67. Kc1 {[%clk 0:02:18.4]} 67... b2+ {[%clk 0:00:02]} 68. Kd1 {[%clk 0:02:17.9]} 68... b1=Q+ {[%clk 0:00:00.6]} 69. Ke2 {[%clk 0:02:17.8]} 1/2-1/2\\n'},\n",
       " {'white': 'Dmytroko',\n",
       "  'black': 'B_e_n_d_e_r',\n",
       "  'result': '1-0',\n",
       "  'date': '2022-03-20',\n",
       "  'pgn': '[Event \"Live Chess\"]\\n[Site \"Chess.com\"]\\n[Date \"2022.03.20\"]\\n[Round \"-\"]\\n[White \"Dmytroko\"]\\n[Black \"B_e_n_d_e_r\"]\\n[Result \"1-0\"]\\n[CurrentPosition \"r1bqk3/ppppbB1p/5p1B/7Q/1n6/2N2N2/PP3PPP/R3K2R b KQq -\"]\\n[Timezone \"UTC\"]\\n[ECO \"C43\"]\\n[ECOUrl \"https://www.chess.com/openings/Petrovs-Defense-Steinitz-Attack-3...exd4\"]\\n[UTCDate \"2022.03.20\"]\\n[UTCTime \"13:07:46\"]\\n[WhiteElo \"1452\"]\\n[BlackElo \"1400\"]\\n[TimeControl \"600\"]\\n[Termination \"Dmytroko won by checkmate\"]\\n[StartTime \"13:07:46\"]\\n[EndDate \"2022.03.20\"]\\n[EndTime \"13:13:15\"]\\n[Link \"https://www.chess.com/game/live/41520617807\"]\\n\\n1. e4 {[%clk 0:10:00]} 1... e5 {[%clk 0:10:00]} 2. d4 {[%clk 0:09:53.1]} 2... exd4 {[%clk 0:09:58.3]} 3. Nf3 {[%clk 0:09:50.9]} 3... Nf6 {[%clk 0:09:50.5]} 4. e5 {[%clk 0:09:37.8]} 4... Nd5 {[%clk 0:09:45.8]} 5. Qxd4 {[%clk 0:09:32.9]} 5... Bb4+ {[%clk 0:09:23.6]} 6. c3 {[%clk 0:09:23.4]} 6... Nxc3 {[%clk 0:09:03.2]} 7. Nxc3 {[%clk 0:09:20.9]} 7... Be7 {[%clk 0:09:02.7]} 8. Bg5 {[%clk 0:09:15.1]} 8... f6 {[%clk 0:08:42]} 9. exf6 {[%clk 0:09:11.2]} 9... gxf6 {[%clk 0:08:34.4]} 10. Bc4 {[%clk 0:08:36.2]} 10... Nc6 {[%clk 0:07:27.8]} 11. Qd5 {[%clk 0:08:22.2]} 11... Rf8 {[%clk 0:07:12]} 12. Bh6 {[%clk 0:08:07.8]} 12... Nb4 {[%clk 0:06:58.6]} 13. Qh5+ {[%clk 0:07:49]} 13... Rf7 {[%clk 0:06:50.6]} 14. Bxf7# {[%clk 0:07:47.2]} 1-0\\n'},\n",
       " {'white': 'B_e_n_d_e_r',\n",
       "  'black': 'Dmytroko',\n",
       "  'result': '0.5-0.5',\n",
       "  'date': '2022-03-20',\n",
       "  'pgn': '[Event \"Live Chess\"]\\n[Site \"Chess.com\"]\\n[Date \"2022.03.20\"]\\n[Round \"-\"]\\n[White \"B_e_n_d_e_r\"]\\n[Black \"Dmytroko\"]\\n[Result \"0-1\"]\\n[CurrentPosition \"2r2k1r/pp2p2p/6p1/5b2/Q1n5/4q3/PPR3PP/2K2R2 w - -\"]\\n[Timezone \"UTC\"]\\n[ECO \"B13\"]\\n[ECOUrl \"https://www.chess.com/openings/Caro-Kann-Defense-Panov-Attack-4...Nf6-5.Nc3\"]\\n[UTCDate \"2022.03.20\"]\\n[UTCTime \"13:13:31\"]\\n[WhiteElo \"1393\"]\\n[BlackElo \"1462\"]\\n[TimeControl \"600\"]\\n[Termination \"Dmytroko won by resignation\"]\\n[StartTime \"13:13:31\"]\\n[EndDate \"2022.03.20\"]\\n[EndTime \"13:28:03\"]\\n[Link \"https://www.chess.com/game/live/41521160189\"]\\n\\n1. e4 {[%clk 0:10:00]} 1... c6 {[%clk 0:10:00]} 2. d4 {[%clk 0:09:57.7]} 2... d5 {[%clk 0:09:58.2]} 3. exd5 {[%clk 0:09:56.9]} 3... cxd5 {[%clk 0:09:56.5]} 4. c4 {[%clk 0:09:56.5]} 4... Nf6 {[%clk 0:09:51.5]} 5. Nc3 {[%clk 0:09:54.4]} 5... Ne4 {[%clk 0:09:34.2]} 6. Nge2 {[%clk 0:09:42.4]} 6... dxc4 {[%clk 0:09:30.1]} 7. Nxe4 {[%clk 0:09:39.7]} 7... Qa5+ {[%clk 0:09:06.9]} 8. Bd2 {[%clk 0:09:24.4]} 8... Qd5 {[%clk 0:08:53.2]} 9. N2g3 {[%clk 0:09:20.8]} 9... f5 {[%clk 0:08:38.7]} 10. Nc3 {[%clk 0:09:12]} 10... Qxd4 {[%clk 0:08:03.4]} 11. Nxf5 {[%clk 0:09:06.4]} 11... Bxf5 {[%clk 0:07:58.3]} 12. Qa4+ {[%clk 0:08:40.4]} 12... Nc6 {[%clk 0:07:25.1]} 13. O-O-O {[%clk 0:08:20.4]} 13... Qxf2 {[%clk 0:06:44.8]} 14. Bxc4 {[%clk 0:07:59]} 14... g6 {[%clk 0:06:15.6]} 15. Nd5 {[%clk 0:07:35.2]} 15... Rc8 {[%clk 0:05:40.6]} 16. Rhe1 {[%clk 0:06:34.8]} 16... Qc5 {[%clk 0:05:34.1]} 17. Bc3 {[%clk 0:06:13.8]} 17... Bh6+ {[%clk 0:04:51]} 18. Bd2 {[%clk 0:05:48.9]} 18... Bxd2+ {[%clk 0:03:54.4]} 19. Rxd2 {[%clk 0:05:46.9]} 19... Kf8 {[%clk 0:03:25.3]} 20. Rf1 {[%clk 0:04:42.5]} 20... Ne5 {[%clk 0:03:04.2]} 21. Rc2 {[%clk 0:04:21.6]} 21... Nxc4 {[%clk 0:02:35.4]} 22. Ne3 {[%clk 0:03:30.3]} 22... Qxe3+ {[%clk 0:02:25.3]} 0-1\\n'},\n",
       " {'white': 'sebastian_AN',\n",
       "  'black': 'Dmytroko',\n",
       "  'result': '1-0',\n",
       "  'date': '2022-03-27',\n",
       "  'pgn': '[Event \"Live Chess\"]\\n[Site \"Chess.com\"]\\n[Date \"2022.03.27\"]\\n[Round \"-\"]\\n[White \"sebastian_AN\"]\\n[Black \"Dmytroko\"]\\n[Result \"1-0\"]\\n[CurrentPosition \"k1R5/P7/KP3p2/8/8/8/8/8 b - -\"]\\n[Timezone \"UTC\"]\\n[ECO \"B10\"]\\n[ECOUrl \"https://www.chess.com/openings/Caro-Kann-Defense-2.Nf3-d5\"]\\n[UTCDate \"2022.03.27\"]\\n[UTCTime \"05:14:43\"]\\n[WhiteElo \"984\"]\\n[BlackElo \"1095\"]\\n[TimeControl \"300+5\"]\\n[Termination \"sebastian_AN won by checkmate\"]\\n[StartTime \"05:14:43\"]\\n[EndDate \"2022.03.27\"]\\n[EndTime \"05:27:30\"]\\n[Link \"https://www.chess.com/game/live/42097139827\"]\\n\\n1. e4 {[%clk 0:05:05]} 1... c6 {[%clk 0:05:05]} 2. Nf3 {[%clk 0:05:08.9]} 2... d5 {[%clk 0:05:09.2]} 3. exd5 {[%clk 0:05:12.9]} 3... cxd5 {[%clk 0:05:11.8]} 4. d4 {[%clk 0:05:17.5]} 4... Nf6 {[%clk 0:05:15.6]} 5. Nc3 {[%clk 0:05:20.7]} 5... Nc6 {[%clk 0:05:19.4]} 6. Bg5 {[%clk 0:05:24.8]} 6... Bg4 {[%clk 0:05:18.1]} 7. Be2 {[%clk 0:05:27]} 7... e6 {[%clk 0:05:19.4]} 8. O-O {[%clk 0:05:30.9]} 8... Be7 {[%clk 0:05:21.1]} 9. h3 {[%clk 0:05:34.7]} 9... Bh5 {[%clk 0:05:19.3]} 10. g4 {[%clk 0:05:38.3]} 10... Bg6 {[%clk 0:05:23.1]} 11. Ne5 {[%clk 0:05:40]} 11... Nxe5 {[%clk 0:05:22.9]} 12. dxe5 {[%clk 0:05:43.7]} 12... Nd7 {[%clk 0:05:26.8]} 13. Bb5 {[%clk 0:05:45.4]} 13... O-O {[%clk 0:05:24.5]} 14. Bxe7 {[%clk 0:05:45.2]} 14... Qxe7 {[%clk 0:05:27.8]} 15. Bxd7 {[%clk 0:05:49.6]} 15... Qxd7 {[%clk 0:05:32]} 16. Ne2 {[%clk 0:05:51.2]} 16... Rfc8 {[%clk 0:05:33.5]} 17. c3 {[%clk 0:05:54.5]} 17... Qc7 {[%clk 0:05:23.7]} 18. Nf4 {[%clk 0:05:53.9]} 18... Be4 {[%clk 0:05:14.3]} 19. f3 {[%clk 0:05:55.4]} 19... Bg6 {[%clk 0:05:02.7]} 20. Nxg6 {[%clk 0:05:58.2]} 20... hxg6 {[%clk 0:05:06.4]} 21. f4 {[%clk 0:06:02]} 21... b5 {[%clk 0:05:05.5]} 22. h4 {[%clk 0:06:06.3]} 22... a5 {[%clk 0:05:09.6]} 23. h5 {[%clk 0:06:10.5]} 23... gxh5 {[%clk 0:05:10.1]} 24. gxh5 {[%clk 0:06:13.1]} 24... Qc5+ {[%clk 0:05:12.3]} 25. Kh1 {[%clk 0:06:14.2]} 25... Qe3 {[%clk 0:05:14.5]} 26. Qg4 {[%clk 0:06:13.1]} 26... Qe4+ {[%clk 0:05:16.2]} 27. Kh2 {[%clk 0:06:11.2]} 27... b4 {[%clk 0:05:18.3]} 28. Rae1 {[%clk 0:06:13.6]} 28... Qc2+ {[%clk 0:05:20.1]} 29. Re2 {[%clk 0:06:17.1]} 29... Qf5 {[%clk 0:05:15]} 30. Qxf5 {[%clk 0:06:03.3]} 30... exf5 {[%clk 0:05:19.1]} 31. cxb4 {[%clk 0:06:06.9]} 31... axb4 {[%clk 0:05:23.3]} 32. b3 {[%clk 0:06:10.1]} 32... Kh7 {[%clk 0:05:19.8]} 33. Rd1 {[%clk 0:06:04.3]} 33... Rd8 {[%clk 0:05:19.5]} 34. Kh3 {[%clk 0:06:06.3]} 34... Kh6 {[%clk 0:05:21.9]} 35. Kh4 {[%clk 0:06:10]} 35... g6 {[%clk 0:05:24.8]} 36. hxg6 {[%clk 0:06:12]} 36... Kxg6 {[%clk 0:05:28.1]} 37. Rg1+ {[%clk 0:06:08.1]} 37... Kh7 {[%clk 0:05:29.2]} 38. Kg3 {[%clk 0:06:03]} 38... Rg8+ {[%clk 0:05:32.4]} 39. Kf2 {[%clk 0:06:04.6]} 39... Rxg1 {[%clk 0:05:33.6]} 40. Kxg1 {[%clk 0:06:08.5]} 40... Rg8+ {[%clk 0:05:37.1]} 41. Kf2 {[%clk 0:06:12.1]} 41... Rg4 {[%clk 0:05:40.7]} 42. Kf3 {[%clk 0:06:15.5]} 42... Kg7 {[%clk 0:05:41]} 43. Rd2 {[%clk 0:06:16.2]} 43... f6 {[%clk 0:05:31.5]} 44. e6 {[%clk 0:06:18]} 44... Kf8 {[%clk 0:05:15.6]} 45. Rxd5 {[%clk 0:06:21.6]} 45... Ke7 {[%clk 0:05:19.5]} 46. Rxf5 {[%clk 0:06:17.4]} 46... Rg1 {[%clk 0:05:23.3]} 47. Rb5 {[%clk 0:06:20.9]} 47... Kxe6 {[%clk 0:05:25.6]} 48. Rxb4 {[%clk 0:06:23.6]} 48... Rf1+ {[%clk 0:05:29.3]} 49. Ke3 {[%clk 0:06:24.9]} 49... Ra1 {[%clk 0:05:27.1]} 50. a4 {[%clk 0:06:24.6]} 50... Kf5 {[%clk 0:05:23.9]} 51. Rb5+ {[%clk 0:06:27.9]} 51... Ke6 {[%clk 0:05:27.1]} 52. f5+ {[%clk 0:06:31.3]} 52... Kd6 {[%clk 0:05:29.3]} 53. Kd3 {[%clk 0:06:34.2]} 53... Rf1 {[%clk 0:05:31.5]} 54. Rb6+ {[%clk 0:06:29.4]} 54... Ke5 {[%clk 0:05:35.1]} 55. Rb5+ {[%clk 0:06:32.7]} 55... Kd6 {[%clk 0:05:35.9]} 56. Kc4 {[%clk 0:06:35.7]} 56... Rf4+ {[%clk 0:05:39]} 57. Kc3 {[%clk 0:06:39.8]} 57... Rf3+ {[%clk 0:05:36.7]} 58. Kb4 {[%clk 0:06:42.3]} 58... Rf4+ {[%clk 0:05:39.9]} 59. Ka3 {[%clk 0:06:45.3]} 59... Kc6 {[%clk 0:05:37.6]} 60. Ka2 {[%clk 0:06:38.7]} 60... Rf2+ {[%clk 0:05:32.8]} 61. Ka3 {[%clk 0:06:42.1]} 61... Rf4 {[%clk 0:05:36.2]} 62. Ra5 {[%clk 0:06:36.3]} 62... Kb6 {[%clk 0:05:32.9]} 63. Rd5 {[%clk 0:06:29.8]} 63... Kc6 {[%clk 0:05:28.7]} 64. Ra5 {[%clk 0:06:24.7]} 64... Kb6 {[%clk 0:05:31.6]} 65. Rb5+ {[%clk 0:06:27.7]} 65... Ka6 {[%clk 0:05:32.2]} 66. Rd5 {[%clk 0:06:27.3]} 66... Rf3 {[%clk 0:05:21.4]} 67. a5 {[%clk 0:06:30.1]} 67... Ka7 {[%clk 0:05:20.3]} 68. Ka4 {[%clk 0:06:30.3]} 68... Rf4+ {[%clk 0:05:22]} 69. b4 {[%clk 0:06:33.6]} 69... Rf3 {[%clk 0:05:23.4]} 70. Kb5 {[%clk 0:06:37.1]} 70... Rc3 {[%clk 0:05:23.2]} 71. Rc5 {[%clk 0:06:38.8]} 71... Rd3 {[%clk 0:05:26.2]} 72. Rc6 {[%clk 0:06:39.1]} 72... Rd5+ {[%clk 0:05:29.5]} 73. Rc5 {[%clk 0:06:42.5]} 73... Rd8 {[%clk 0:05:32.3]} 74. Rc7+ {[%clk 0:06:43.5]} 74... Kb8 {[%clk 0:05:35.8]} 75. Rf7 {[%clk 0:06:44.9]} 75... Rd5+ {[%clk 0:05:37.4]} 76. Ka4 {[%clk 0:06:48.8]} 76... Rd6 {[%clk 0:05:40.1]} 77. Re7 {[%clk 0:06:31.9]} 77... Rd5 {[%clk 0:05:34.7]} 78. a6 {[%clk 0:06:33.5]} 78... Rxf5 {[%clk 0:05:33]} 79. a7+ {[%clk 0:06:36.1]} 79... Ka8 {[%clk 0:05:36.8]} 80. b5 {[%clk 0:06:38.5]} 80... Rc5 {[%clk 0:05:40]} 81. Ka5 {[%clk 0:06:40.5]} 81... Rc8 {[%clk 0:05:38]} 82. b6 {[%clk 0:06:42.8]} 82... Rc5+ {[%clk 0:05:40.9]} 83. Ka6 {[%clk 0:06:41.8]} 83... Rc6 {[%clk 0:05:11.5]} 84. Re8+ {[%clk 0:06:44.1]} 84... Rc8 {[%clk 0:05:13.1]} 85. Rxc8# {[%clk 0:06:47.3]} 1-0\\n'},\n",
       " {'white': 'Dmytroko',\n",
       "  'black': 'senthilnm',\n",
       "  'result': '1-0',\n",
       "  'date': '2022-03-27',\n",
       "  'pgn': '[Event \"Live Chess\"]\\n[Site \"Chess.com\"]\\n[Date \"2022.03.27\"]\\n[Round \"-\"]\\n[White \"Dmytroko\"]\\n[Black \"senthilnm\"]\\n[Result \"1-0\"]\\n[CurrentPosition \"5rk1/1pp1Q2p/1p1p2P1/8/1P2pp2/P3R1R1/5PK1/2q5 b - -\"]\\n[Timezone \"UTC\"]\\n[ECO \"C46\"]\\n[ECOUrl \"https://www.chess.com/openings/Three-Knights-Opening-3...Bb4\"]\\n[UTCDate \"2022.03.27\"]\\n[UTCTime \"05:27:48\"]\\n[WhiteElo \"1104\"]\\n[BlackElo \"1140\"]\\n[TimeControl \"300+5\"]\\n[Termination \"Dmytroko won on time\"]\\n[StartTime \"05:27:48\"]\\n[EndDate \"2022.03.27\"]\\n[EndTime \"05:40:41\"]\\n[Link \"https://www.chess.com/game/live/42097765959\"]\\n\\n1. e4 {[%clk 0:05:05]} 1... e5 {[%clk 0:05:04.3]} 2. Nf3 {[%clk 0:05:09.9]} 2... Nc6 {[%clk 0:05:08]} 3. Nc3 {[%clk 0:05:14.3]} 3... Bb4 {[%clk 0:05:11.5]} 4. Bb5 {[%clk 0:05:17.2]} 4... Nge7 {[%clk 0:05:14.7]} 5. O-O {[%clk 0:05:19.1]} 5... O-O {[%clk 0:05:17.9]} 6. Bxc6 {[%clk 0:05:18.9]} 6... Nxc6 {[%clk 0:05:20.8]} 7. a3 {[%clk 0:05:22.9]} 7... Ba5 {[%clk 0:05:22.8]} 8. b4 {[%clk 0:05:26.6]} 8... Bb6 {[%clk 0:05:26.3]} 9. Nd5 {[%clk 0:05:30.6]} 9... d6 {[%clk 0:05:27.1]} 10. Nxb6 {[%clk 0:05:34.4]} 10... axb6 {[%clk 0:05:30.9]} 11. d4 {[%clk 0:05:38.2]} 11... Bg4 {[%clk 0:05:32.4]} 12. Qd3 {[%clk 0:05:38.2]} 12... Bxf3 {[%clk 0:05:21]} 13. gxf3 {[%clk 0:05:38.9]} 13... Nxd4 {[%clk 0:05:23.5]} 14. Kh1 {[%clk 0:05:27.5]} 14... Qf6 {[%clk 0:05:24.9]} 15. Rg1 {[%clk 0:05:30.3]} 15... Nxf3 {[%clk 0:05:17.7]} 16. Rg3 {[%clk 0:05:33.1]} 16... Nd4 {[%clk 0:05:07.9]} 17. Bg5 {[%clk 0:05:35.9]} 17... Qe6 {[%clk 0:05:07.7]} 18. Rag1 {[%clk 0:05:34]} 18... Nb5 {[%clk 0:04:26.7]} 19. Qxb5 {[%clk 0:05:33.8]} 19... Qa2 {[%clk 0:04:03.3]} 20. Bh6 {[%clk 0:05:35.8]} 20... g6 {[%clk 0:03:58]} 21. Bxf8 {[%clk 0:05:34.2]} 21... Rxf8 {[%clk 0:03:59.9]} 22. Qd7 {[%clk 0:05:31.5]} 22... Qxc2 {[%clk 0:03:56.1]} 23. Rf3 {[%clk 0:04:59.8]} 23... Qxe4 {[%clk 0:03:54.2]} 24. Rg3 {[%clk 0:04:48.9]} 24... Qe1+ {[%clk 0:03:47.3]} 25. Kg2 {[%clk 0:04:51.9]} 25... Qc1 {[%clk 0:03:19.1]} 26. h4 {[%clk 0:03:58.6]} 26... e4 {[%clk 0:03:17.2]} 27. Re3 {[%clk 0:03:59]} 27... f5 {[%clk 0:02:49.4]} 28. h5 {[%clk 0:03:44.7]} 28... f4 {[%clk 0:02:31.9]} 29. Qe6+ {[%clk 0:03:32.3]} 29... Kh8 {[%clk 0:01:24.6]} 30. Qe7 {[%clk 0:03:27.1]} 30... Kg8 {[%clk 0:01:13.4]} 31. Qe6+ {[%clk 0:03:19.8]} 31... Kh8 {[%clk 0:01:06.9]} 32. Qe7 {[%clk 0:03:01.3]} 32... Kg8 {[%clk 0:00:33.8]} 33. hxg6 {[%clk 0:02:48.8]} 1-0\\n'}]"
      ]
     },
     "execution_count": 17,
     "metadata": {},
     "output_type": "execute_result"
    }
   ],
   "source": [
    "get_user_data('dmytroko')\n"
   ]
  },
  {
   "cell_type": "code",
   "execution_count": 16,
   "metadata": {},
   "outputs": [],
   "source": [
    "# [['br', '18'], ['bq', '48'], ['bk', '58'], ['bb', '68']]\n",
    "string = \"[['br', '18'], ['bq', '48'], ['bk', '58'], ['bb', '68']]\""
   ]
  },
  {
   "cell_type": "code",
   "execution_count": 25,
   "metadata": {},
   "outputs": [
    {
     "data": {
      "text/plain": [
       "\"['br', '18'] # ['bq', '48'] # ['bk', '58'] # ['bb', '68']\""
      ]
     },
     "execution_count": 25,
     "metadata": {},
     "output_type": "execute_result"
    }
   ],
   "source": [
    "string[1:-1].replace('], ', ']#')"
   ]
  },
  {
   "cell_type": "code",
   "execution_count": 30,
   "metadata": {},
   "outputs": [
    {
     "data": {
      "text/plain": [
       "[\"['br', '18']\", \"['bq', '48']\", \"['bk', '58']\", \"['bb', '68']\"]"
      ]
     },
     "execution_count": 30,
     "metadata": {},
     "output_type": "execute_result"
    }
   ],
   "source": [
    "string[1:-1].replace('], ', ']#').split('#')"
   ]
  },
  {
   "cell_type": "code",
   "execution_count": 33,
   "metadata": {},
   "outputs": [
    {
     "data": {
      "text/plain": [
       "[\"['br', '18']\", \"['bq', '48']\", \"['bk', '58']\", \"['bb', '68']\"]"
      ]
     },
     "execution_count": 33,
     "metadata": {},
     "output_type": "execute_result"
    }
   ],
   "source": [
    "[s for s in string[1:-1].replace('], ', ']#').split('#')]"
   ]
  },
  {
   "cell_type": "code",
   "execution_count": 34,
   "metadata": {},
   "outputs": [],
   "source": [
    "cfen = \"3k4/5ppp/4bn2/1Np5/8/1P6/1PP2PPP/2BR2K1 b - -\""
   ]
  },
  {
   "cell_type": "code",
   "execution_count": 36,
   "metadata": {},
   "outputs": [
    {
     "data": {
      "text/plain": [
       "[['bk', '48'],\n",
       " ['bp', '67'],\n",
       " ['bp', '77'],\n",
       " ['bp', '87'],\n",
       " ['bb', '56'],\n",
       " ['bn', '66'],\n",
       " ['wn', '25'],\n",
       " ['bp', '35'],\n",
       " ['wp', '23'],\n",
       " ['wp', '22'],\n",
       " ['wp', '32'],\n",
       " ['wp', '62'],\n",
       " ['wp', '72'],\n",
       " ['wp', '82'],\n",
       " ['wb', '31'],\n",
       " ['wr', '41'],\n",
       " ['wk', '71']]"
      ]
     },
     "execution_count": 36,
     "metadata": {},
     "output_type": "execute_result"
    }
   ],
   "source": [
    "detect_pieces_in_game(cfen)"
   ]
  },
  {
   "cell_type": "code",
   "execution_count": null,
   "metadata": {},
   "outputs": [],
   "source": []
  }
 ],
 "metadata": {
  "kernelspec": {
   "display_name": "Python 3.9.8 ('chess-server': venv)",
   "language": "python",
   "name": "python3"
  },
  "language_info": {
   "codemirror_mode": {
    "name": "ipython",
    "version": 3
   },
   "file_extension": ".py",
   "mimetype": "text/x-python",
   "name": "python",
   "nbconvert_exporter": "python",
   "pygments_lexer": "ipython3",
   "version": "3.9.8"
  },
  "orig_nbformat": 4,
  "vscode": {
   "interpreter": {
    "hash": "2582c1427e04ef5731f128d6983dfc0707e40a2f05e536398cf7fcc17fa87866"
   }
  }
 },
 "nbformat": 4,
 "nbformat_minor": 2
}
